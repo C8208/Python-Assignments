{
  "nbformat": 4,
  "nbformat_minor": 0,
  "metadata": {
    "colab": {
      "name": "Assignment-FibonacciNumber.ipynb",
      "provenance": [],
      "authorship_tag": "ABX9TyNagY16jUD8TgfQ5jXjPXsL",
      "include_colab_link": true
    },
    "kernelspec": {
      "name": "python3",
      "display_name": "Python 3"
    },
    "language_info": {
      "name": "python"
    }
  },
  "cells": [
    {
      "cell_type": "markdown",
      "metadata": {
        "id": "view-in-github",
        "colab_type": "text"
      },
      "source": [
        "<a href=\"https://colab.research.google.com/github/C8208/Python-Assignments-New/blob/main/Assignment_FibonacciNumber.ipynb\" target=\"_parent\"><img src=\"https://colab.research.google.com/assets/colab-badge.svg\" alt=\"Open In Colab\"/></a>"
      ]
    },
    {
      "cell_type": "code",
      "metadata": {
        "colab": {
          "base_uri": "https://localhost:8080/"
        },
        "id": "juo-c749iSad",
        "outputId": "b35aa081-0ef5-461e-c379-8e5efe8fff7f"
      },
      "source": [
        "# Girilen n sayısına kadar olan Fibonacci Numaraları yazdırma\n",
        "def fibanocci(n):\n",
        "    dizi = [1, 1]\n",
        "    for i in range(2, n+1):\n",
        "        dizi.append(dizi[i-2] + dizi[i-1])\n",
        "    return dizi\n",
        "print(fibanocci(9))"
      ],
      "execution_count": 4,
      "outputs": [
        {
          "output_type": "stream",
          "text": [
            "[1, 1, 2, 3, 5, 8, 13, 21, 34, 55]\n"
          ],
          "name": "stdout"
        }
      ]
    }
  ]
}