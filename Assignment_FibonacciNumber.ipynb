{
  "nbformat": 4,
  "nbformat_minor": 0,
  "metadata": {
    "colab": {
      "name": "Assignment-FibonacciNumber.ipynb",
      "provenance": [],
      "authorship_tag": "ABX9TyPGzxl9edeeBjC8EIbzlX6F",
      "include_colab_link": true
    },
    "kernelspec": {
      "name": "python3",
      "display_name": "Python 3"
    },
    "language_info": {
      "name": "python"
    }
  },
  "cells": [
    {
      "cell_type": "markdown",
      "metadata": {
        "id": "view-in-github",
        "colab_type": "text"
      },
      "source": [
        "<a href=\"https://colab.research.google.com/github/C8208/Python-Assignments-New/blob/main/Assignment_FibonacciNumber.ipynb\" target=\"_parent\"><img src=\"https://colab.research.google.com/assets/colab-badge.svg\" alt=\"Open In Colab\"/></a>"
      ]
    },
    {
      "cell_type": "code",
      "metadata": {
        "colab": {
          "base_uri": "https://localhost:8080/"
        },
        "id": "juo-c749iSad",
        "outputId": "fd604ee3-f288-4ba9-a4e6-ba539fd4465c"
      },
      "source": [
        "# Girilen n sayısına kadar olan Fibonacci Numaraları yazdırma\n",
        "def fib(n):    \n",
        "     a, b = 0, 1\n",
        "     while a < n:\n",
        "         print(a, end=' ')\n",
        "         a, b = b, a+b\n",
        "     print()\n",
        "\n",
        "fib(1000)"
      ],
      "execution_count": 2,
      "outputs": [
        {
          "output_type": "stream",
          "text": [
            "0 1 1 2 3 5 8 13 21 34 55 89 144 233 377 610 987 \n"
          ],
          "name": "stdout"
        }
      ]
    }
  ]
}