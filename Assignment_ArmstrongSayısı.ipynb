{
  "nbformat": 4,
  "nbformat_minor": 0,
  "metadata": {
    "colab": {
      "name": "Assignment-ArmstrongSayısı.ipynb",
      "provenance": [],
      "collapsed_sections": [],
      "authorship_tag": "ABX9TyM26MQ1cNsiZyXr1mx6p+CE",
      "include_colab_link": true
    },
    "kernelspec": {
      "name": "python3",
      "display_name": "Python 3"
    },
    "language_info": {
      "name": "python"
    }
  },
  "cells": [
    {
      "cell_type": "markdown",
      "metadata": {
        "id": "view-in-github",
        "colab_type": "text"
      },
      "source": [
        "<a href=\"https://colab.research.google.com/github/C8208/Python-Assignments-New/blob/main/Assignment_ArmstrongSay%C4%B1s%C4%B1.ipynb\" target=\"_parent\"><img src=\"https://colab.research.google.com/assets/colab-badge.svg\" alt=\"Open In Colab\"/></a>"
      ]
    },
    {
      "cell_type": "code",
      "metadata": {
        "id": "m-epBEa2NX7B"
      },
      "source": [
        "#Armstrong Sayısı Bulma Programı\n",
        "while True:\n",
        "  armstrong_sayisi = input ('Bir sayı giriniz... ')\n",
        "  if not armstrong_sayisi.strip().lstrip('+-').isdigit():\n",
        "    print (armstrong_sayisi, 'bir sayı değildir.\\n')\n",
        "  elif int (armstrong_sayisi)<0 :\n",
        "      print(\"Negatif sayı giremezsiniz...\\n\")\n",
        "  elif int (armstrong_sayisi)==0:\n",
        "      print(\"sıfır tabiki Armstrong sayısı. Tekrar deneyin...\\n\")\n",
        "  else:\n",
        "      new_armstrong = 0\n",
        "      for i in armstrong_sayisi:\n",
        "         new_armstrong += pow(int(i), len(armstrong_sayisi))\n",
        "      if new_armstrong == int(armstrong_sayisi):\n",
        "        print(armstrong_sayisi, \"bir Armstrong sayısıdır.\")\n",
        "      else:\n",
        "         print(\"Ne yazık ki\", armstrong_sayisi, \"bir Armstrong sayısı değildir.\")\n",
        "      break"
      ],
      "execution_count": null,
      "outputs": []
    }
  ]
}