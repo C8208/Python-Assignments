{
  "nbformat": 4,
  "nbformat_minor": 0,
  "metadata": {
    "colab": {
      "name": "Assignment-PasswordReminder.ipynb",
      "provenance": [],
      "collapsed_sections": [],
      "authorship_tag": "ABX9TyN9GmR7+LUcHcyclACB471d",
      "include_colab_link": true
    },
    "kernelspec": {
      "name": "python3",
      "display_name": "Python 3"
    },
    "language_info": {
      "name": "python"
    }
  },
  "cells": [
    {
      "cell_type": "markdown",
      "metadata": {
        "id": "view-in-github",
        "colab_type": "text"
      },
      "source": [
        "<a href=\"https://colab.research.google.com/github/C8208/Python-Assignments-New/blob/main/Assignment_PasswordReminder.ipynb\" target=\"_parent\"><img src=\"https://colab.research.google.com/assets/colab-badge.svg\" alt=\"Open In Colab\"/></a>"
      ]
    },
    {
      "cell_type": "code",
      "metadata": {
        "id": "-bc-tsOhQxk7",
        "colab": {
          "base_uri": "https://localhost:8080/"
        },
        "outputId": "fd4508de-d9c4-441b-b2a0-5d690e3572de"
      },
      "source": [
        "\n",
        "#program for reminding password\n",
        "name=\"Eric\"\n",
        "\n",
        "for i in range(3):\n",
        "  nm = input(\"Enter your name : \")\n",
        "  j=3\n",
        "  if(nm==name):\n",
        "     print(\"Hello, Eric!  The password is : elfblgn\")\n",
        "     break\n",
        "  else:\n",
        "     print(\"Hello, {}! See You later\".format(nm))\n",
        "     continue\n",
        "print(\"\\n you can enter password\")"
      ],
      "execution_count": null,
      "outputs": [
        {
          "output_type": "stream",
          "text": [
            "Enter your name : Amina\n",
            "Hello, Amina! See You later\n"
          ],
          "name": "stdout"
        }
      ]
    },
    {
      "cell_type": "code",
      "metadata": {
        "id": "-hJp20mKP4Jm"
      },
      "source": [
        ""
      ],
      "execution_count": null,
      "outputs": []
    },
    {
      "cell_type": "code",
      "metadata": {
        "id": "OLTrQlFzPzTM"
      },
      "source": [
        ""
      ],
      "execution_count": null,
      "outputs": []
    }
  ]
}