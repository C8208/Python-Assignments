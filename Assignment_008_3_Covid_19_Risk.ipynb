{
  "nbformat": 4,
  "nbformat_minor": 0,
  "metadata": {
    "colab": {
      "name": "Assignment/008-3-Covid-19.Risk.ipynb",
      "provenance": [],
      "authorship_tag": "ABX9TyOGY+ScwLm2iLO4gtSWGFjY",
      "include_colab_link": true
    },
    "kernelspec": {
      "name": "python3",
      "display_name": "Python 3"
    },
    "language_info": {
      "name": "python"
    }
  },
  "cells": [
    {
      "cell_type": "markdown",
      "metadata": {
        "id": "view-in-github",
        "colab_type": "text"
      },
      "source": [
        "<a href=\"https://colab.research.google.com/github/C8208/Python-Assignments-New/blob/main/Assignment_008_3_Covid_19_Risk.ipynb\" target=\"_parent\"><img src=\"https://colab.research.google.com/assets/colab-badge.svg\" alt=\"Open In Colab\"/></a>"
      ]
    },
    {
      "cell_type": "code",
      "metadata": {
        "colab": {
          "base_uri": "https://localhost:8080/"
        },
        "id": "beCDmb-MLYYt",
        "outputId": "ec48986b-41c5-4053-e456-3e6ed2cad2c0"
      },
      "source": [
        "age = bool (input ('Are you a cigarette addict older than 75 years old?\\n\\\n",
        "Write yes for approval and only press enter for no ' ))\n",
        "chronic = bool (input('Do you have a severe chronic disease?\\n\\\n",
        "Write yes for approval and only press enter for no '))\n",
        "immune = bool (input('Is your immune system too weak?\\n\\\n",
        "Write yes for approval and only press enter for no '))\n",
        "risk = age and chronic and immune\n",
        "if (risk==True):\n",
        "   print(\"You are in risky group\")\n",
        "else:\n",
        "  print(\"You are not in risky group\")"
      ],
      "execution_count": 3,
      "outputs": [
        {
          "output_type": "stream",
          "text": [
            "Are you a cigarette addict older than 75 years old?\n",
            "Write yes for approval and only press enter for no \n",
            "Do you have a severe chronic disease?\n",
            "Write yes for approval and only press enter for no \n",
            "Is your immune system too weak?\n",
            "Write yes for approval and only press enter for no \n",
            "You are not in risky group\n"
          ],
          "name": "stdout"
        }
      ]
    }
  ]
}