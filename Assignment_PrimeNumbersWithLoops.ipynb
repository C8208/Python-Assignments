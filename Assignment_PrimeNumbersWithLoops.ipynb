{
  "nbformat": 4,
  "nbformat_minor": 0,
  "metadata": {
    "colab": {
      "name": "Assignment_PrimeNumbersWithLoops.ipynb",
      "provenance": [],
      "collapsed_sections": [],
      "authorship_tag": "ABX9TyPiud8tdJw3kNhQ/GEG60yQ",
      "include_colab_link": true
    },
    "kernelspec": {
      "name": "python3",
      "display_name": "Python 3"
    },
    "language_info": {
      "name": "python"
    }
  },
  "cells": [
    {
      "cell_type": "markdown",
      "metadata": {
        "id": "view-in-github",
        "colab_type": "text"
      },
      "source": [
        "<a href=\"https://colab.research.google.com/github/C8208/Python-Assignments-New/blob/main/Assignment_PrimeNumbersWithLoops.ipynb\" target=\"_parent\"><img src=\"https://colab.research.google.com/assets/colab-badge.svg\" alt=\"Open In Colab\"/></a>"
      ]
    },
    {
      "cell_type": "code",
      "metadata": {
        "colab": {
          "base_uri": "https://localhost:8080/"
        },
        "id": "qIi9qi0K2y0H",
        "outputId": "707fde18-6b73-4bb0-cb4e-3d78de931230"
      },
      "source": [
        "def primes_method1(n):\n",
        "    out = list()\n",
        "    for num in range(1, n+1):\n",
        "        prime = True\n",
        "        for i in range(2, num):\n",
        "            if (num % i == 0):\n",
        "                prime = False\n",
        "        if prime:\n",
        "            out.append(num)\n",
        "    return out\n",
        "print(primes_method1(100))"
      ],
      "execution_count": 1,
      "outputs": [
        {
          "output_type": "stream",
          "text": [
            "[1, 2, 3, 5, 7, 11, 13, 17, 19, 23, 29, 31, 37, 41, 43, 47, 53, 59, 61, 67, 71, 73, 79, 83, 89, 97]\n"
          ],
          "name": "stdout"
        }
      ]
    }
  ]
}